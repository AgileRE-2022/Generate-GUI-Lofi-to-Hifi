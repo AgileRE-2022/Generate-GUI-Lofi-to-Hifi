{
 "cells": [
  {
   "cell_type": "code",
   "execution_count": 1,
   "id": "c224e0cc",
   "metadata": {},
   "outputs": [],
   "source": [
    "import re"
   ]
  },
  {
   "cell_type": "code",
   "execution_count": 5,
   "id": "2443eb03",
   "metadata": {},
   "outputs": [
    {
     "data": {
      "text/plain": [
       "['This is my button']"
      ]
     },
     "execution_count": 5,
     "metadata": {},
     "output_type": "execute_result"
    }
   ],
   "source": [
    "text='''\n",
    "@startsalt\n",
    "{\n",
    "  Just plain text\n",
    "  [This is my button]\n",
    "  ()  Unchecked Radio\n",
    "  (X) Checked radio\n",
    "  []  Unchecked box\n",
    "  [X] Checked box\n",
    "  \"Enter text here   \"\n",
    "  ^This is a droplist^\n",
    "  +\n",
    "   This is a long\n",
    "   text in a textarea\n",
    "}\n",
    "@endsalt\n",
    "'''\n",
    "\n",
    "# Mencari button, capture desc.-nya\n",
    "button_regex = '\\[(\\w.{1,})\\]'\n",
    "\n",
    "# Mencari unchecked radio, capture desc.-nya\n",
    "unchecked_radio_regex = '\\(\\)\\s{1,}(\\w.{1,})'\n",
    "\n",
    "# Mencari unchecked box, capture desc.-nya\n",
    "unchecked_box_regex =  '\\[\\]\\s{1,}(\\w.{1,})'\n",
    "\n",
    "# Mencari checked box, capture desc.-nya\n",
    "checked_box_regex = '\\[[X]\\]\\s{1}(\\w.{1,})' \n",
    "\n",
    "# Mencari form, capture desc.-nya\n",
    "form_regex = '\\\"(\\w.{1,})\\\"' \n",
    "\n",
    "# Mencari droplist, capture desc.-nya\n",
    "droplist_regex = '\\^(\\w.{1,})\\^' \n",
    "\n",
    "button_find = re.findall(button_regex, text)\n",
    "button_find"
   ]
  },
  {
   "cell_type": "code",
   "execution_count": 6,
   "id": "b78ef2ec",
   "metadata": {},
   "outputs": [
    {
     "data": {
      "text/plain": [
       "['Unchecked Radio']"
      ]
     },
     "execution_count": 6,
     "metadata": {},
     "output_type": "execute_result"
    }
   ],
   "source": [
    "unchecked_radio_find = re.findall(unchecked_radio_regex, text)\n",
    "unchecked_radio_find"
   ]
  },
  {
   "cell_type": "code",
   "execution_count": 7,
   "id": "7bdbe8d1",
   "metadata": {},
   "outputs": [
    {
     "data": {
      "text/plain": [
       "['Unchecked box']"
      ]
     },
     "execution_count": 7,
     "metadata": {},
     "output_type": "execute_result"
    }
   ],
   "source": [
    "unchecked_box_find = re.findall(unchecked_box_regex, text)\n",
    "unchecked_box_find"
   ]
  },
  {
   "cell_type": "code",
   "execution_count": 8,
   "id": "dd3e44fb",
   "metadata": {},
   "outputs": [
    {
     "data": {
      "text/plain": [
       "['Checked box']"
      ]
     },
     "execution_count": 8,
     "metadata": {},
     "output_type": "execute_result"
    }
   ],
   "source": [
    "checked_box_find = re.findall(checked_box_regex, text)\n",
    "checked_box_find"
   ]
  },
  {
   "cell_type": "code",
   "execution_count": 9,
   "id": "382c4842",
   "metadata": {},
   "outputs": [
    {
     "data": {
      "text/plain": [
       "['Enter text here   ']"
      ]
     },
     "execution_count": 9,
     "metadata": {},
     "output_type": "execute_result"
    }
   ],
   "source": [
    "form_find = re.findall(form_regex, text)\n",
    "form_find"
   ]
  },
  {
   "cell_type": "code",
   "execution_count": 10,
   "id": "271d7144",
   "metadata": {},
   "outputs": [
    {
     "data": {
      "text/plain": [
       "['This is a droplist']"
      ]
     },
     "execution_count": 10,
     "metadata": {},
     "output_type": "execute_result"
    }
   ],
   "source": [
    "droplist_find = re.findall(droplist_regex, text)\n",
    "droplist_find"
   ]
  },
  {
   "cell_type": "code",
   "execution_count": 111,
   "id": "bd4396a0",
   "metadata": {},
   "outputs": [
    {
     "name": "stdout",
     "output_type": "stream",
     "text": [
      "['', '@startsalt', '{', '  Just plain text', '  [This is my button]', '  ()  Unchecked Radio', '  (X) Checked radio', '  []  Unchecked box', '  [X] Checked box', '  \"Enter text here   \"', '  ^This is a droplist^', '  +', '   This is a long', '   text in a textarea', '}', '@endsalt']\n",
      "Button found\n",
      "['This is my button'] \n",
      "\n",
      "Unchecked Radio Button found\n",
      "['Unchecked Radio'] \n",
      "\n",
      "Checked Radio Button found\n",
      "['Checked radio'] \n",
      "\n",
      "Unchecked Box found\n",
      "['Unchecked box'] \n",
      "\n",
      "Checked Box found\n",
      "['Checked box'] \n",
      "\n",
      "Input Form found\n",
      "['Enter text here   '] \n",
      "\n",
      "Droplist found\n",
      "['This is a droplist'] \n",
      "\n"
     ]
    }
   ],
   "source": [
    "# Credit to Ajyan Brava for initial code\n",
    "\n",
    "import re\n",
    "\n",
    "text = \"\"\"\n",
    "Just plain text\n",
    "[This is my button]\n",
    "()  Unchecked radio\n",
    "(X) Checked radio\n",
    "[]  Unchecked box\n",
    "[X] Checked box\n",
    "\"Enter text here   \"\n",
    "^This is a droplist^\n",
    "\"\"\"\n",
    "\n",
    "text2 = \"\"\"\n",
    "@startsalt\n",
    "{\n",
    "  Just plain text\n",
    "  [This is my button]\n",
    "  ()  Unchecked Radio\n",
    "  (X) Checked radio\n",
    "  []  Unchecked box\n",
    "  [X] Checked box\n",
    "  \"Enter text here   \"\n",
    "  ^This is a droplist^\n",
    "  +\n",
    "   This is a long\n",
    "   text in a textarea\n",
    "}\n",
    "@endsalt\n",
    "\"\"\"\n",
    "\n",
    "lines = text2.splitlines()\n",
    "\n",
    "print(lines)\n",
    "\n",
    "for line in lines:\n",
    "    line = line.strip()\n",
    "    words = []\n",
    "    words.append(line)\n",
    "    for word in words:\n",
    "        #print(word)\n",
    "        if re.search(\"\\[(\\w.{1,})\\]\",word): # Searching for Button\n",
    "            print(\"Button found\")\n",
    "            button_text = re.findall(\"\\[(\\w.{1,})\\]\",word) # Capture isi dari Button\n",
    "            print(button_text,\"\\n\")\n",
    "            break\n",
    "        if re.search(\"\\(\\)\\s{1,}(\\w.{1,})\",word): # Searching for Unchecked Radio\n",
    "            print(\"Unchecked Radio Button found\")\n",
    "            uc_radio_text = re.findall(\"\\(\\)\\s{1,}(\\w.{1,})\",word) # Capture isi dari Unchecked Radio Button\n",
    "            print(uc_radio_text,\"\\n\")\n",
    "            break\n",
    "        if re.search(\"\\([X]\\)\",word): #Searching for Checked Radio\n",
    "            print(\"Checked Radio Button found\")\n",
    "            c_radio_text = re.findall(\"\\([X]\\)\\s{1}(\\w.{1,})\",word) # Capture isi dari Checked Radio Button\n",
    "            print(c_radio_text,\"\\n\")\n",
    "        if re.search(\"\\[\\]\\s{1,}(\\w.{1,})\",word): # Searching for Unchecked Box\n",
    "            print(\"Unchecked Box found\")\n",
    "            uc_box_text = re.findall(\"\\[\\]\\s{1,}(\\w.{1,})\",word) # Capture isi dari Unchecked Box Button\n",
    "            print(uc_box_text,\"\\n\")\n",
    "            break\n",
    "        if re.search(\"\\[[X]\\]\\s{1}(\\w.{1,})\",word): # Searching for Checked Box\n",
    "            print(\"Checked Box found\")\n",
    "            c_box_text = re.findall(\"\\[[X]\\]\\s{1}(\\w.{1,})\",word) # Capture isi dari Checked Box Button\n",
    "            print(c_box_text,\"\\n\")\n",
    "            break\n",
    "        if re.search(\"\\\"(\\w.{1,})\\\"\",word): # Searching for Form Input\n",
    "            print(\"Input Form found\")\n",
    "            form_text = re.findall(\"\\\"(\\w.{1,})\\\"\",word) # Capture isi dari Form Input\n",
    "            print(form_text,\"\\n\")\n",
    "            break\n",
    "        if re.search(\"\\^(\\w.{1,})\\^\",word): # Searching for Droplist\n",
    "            print(\"Droplist found\")\n",
    "            droplist_text = re.findall(\"\\^(\\w.{1,})\\^\",word) # Capture isi dari Droplist\n",
    "            print(droplist_text,\"\\n\")\n",
    "            break"
   ]
  },
  {
   "cell_type": "code",
   "execution_count": null,
   "id": "7601d304",
   "metadata": {},
   "outputs": [],
   "source": []
  }
 ],
 "metadata": {
  "kernelspec": {
   "display_name": "Python 3",
   "language": "python",
   "name": "python3"
  },
  "language_info": {
   "codemirror_mode": {
    "name": "ipython",
    "version": 3
   },
   "file_extension": ".py",
   "mimetype": "text/x-python",
   "name": "python",
   "nbconvert_exporter": "python",
   "pygments_lexer": "ipython3",
   "version": "3.9.5"
  }
 },
 "nbformat": 4,
 "nbformat_minor": 5
}
