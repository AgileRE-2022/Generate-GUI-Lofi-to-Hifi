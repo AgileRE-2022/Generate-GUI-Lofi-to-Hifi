{
 "cells": [
  {
   "cell_type": "code",
   "execution_count": 1,
   "id": "c224e0cc",
   "metadata": {},
   "outputs": [],
   "source": [
    "import re"
   ]
  },
  {
   "cell_type": "code",
   "execution_count": 2,
   "id": "2443eb03",
   "metadata": {},
   "outputs": [
    {
     "data": {
      "text/plain": [
       "['Checked box']"
      ]
     },
     "execution_count": 2,
     "metadata": {},
     "output_type": "execute_result"
    }
   ],
   "source": [
    "text='''\n",
    "@startsalt\n",
    "{\n",
    "  Just plain text\n",
    "  [This is my button]\n",
    "  ()  Unchecked radio\n",
    "  (X) Checked radio\n",
    "  []  Unchecked box\n",
    "  [X] Checked box\n",
    "  \"Enter text here   \"\n",
    "  ^This is a droplist^\n",
    "  +\n",
    "   This is a long\n",
    "   text in a textarea\n",
    "}\n",
    "@endsalt\n",
    "'''\n",
    "\n",
    "# Mencari button, capture desc.-nya\n",
    "button_regex = '\\[[X]\\]\\s{1}(\\w.{1,})'\n",
    "\n",
    "# Mencari unchecked radio, capture desc.-nya\n",
    "unchecked_radio_regex = '\\(\\)\\s{1,}(\\w.{1,})'\n",
    "\n",
    "# Mencari unchecked box, capture desc.-nya\n",
    "unchecked_box_regex =  '\\[\\]\\s{1,}(\\w.{1,})'\n",
    "\n",
    "# Mencari checked box, capture desc.-nya\n",
    "checked_box_regex = '\\[[X]\\]\\s{1}(\\w.{1,})' \n",
    "\n",
    "# Mencari form, capture desc.-nya\n",
    "form_regex = '\\\"(\\w.{1,})\\\"' \n",
    "\n",
    "# Mencari droplist, capture desc.-nya\n",
    "droplist_regex = '\\^(\\w.{1,})\\^' \n",
    "\n",
    "button_find = re.findall(button_regex, text)\n",
    "button_find"
   ]
  },
  {
   "cell_type": "code",
   "execution_count": 3,
   "id": "b78ef2ec",
   "metadata": {},
   "outputs": [
    {
     "data": {
      "text/plain": [
       "['Unchecked radio']"
      ]
     },
     "execution_count": 3,
     "metadata": {},
     "output_type": "execute_result"
    }
   ],
   "source": [
    "unchecked_radio_find = re.findall(unchecked_radio_regex, text)\n",
    "unchecked_radio_find"
   ]
  },
  {
   "cell_type": "code",
   "execution_count": 4,
   "id": "7bdbe8d1",
   "metadata": {},
   "outputs": [
    {
     "data": {
      "text/plain": [
       "['Unchecked box']"
      ]
     },
     "execution_count": 4,
     "metadata": {},
     "output_type": "execute_result"
    }
   ],
   "source": [
    "unchecked_box_find = re.findall(unchecked_box_regex, text)\n",
    "unchecked_box_find"
   ]
  },
  {
   "cell_type": "code",
   "execution_count": 5,
   "id": "dd3e44fb",
   "metadata": {},
   "outputs": [
    {
     "data": {
      "text/plain": [
       "['Checked box']"
      ]
     },
     "execution_count": 5,
     "metadata": {},
     "output_type": "execute_result"
    }
   ],
   "source": [
    "checked_box_find = re.findall(checked_box_regex, text)\n",
    "checked_box_find"
   ]
  },
  {
   "cell_type": "code",
   "execution_count": 6,
   "id": "382c4842",
   "metadata": {},
   "outputs": [
    {
     "data": {
      "text/plain": [
       "['Enter text here   ']"
      ]
     },
     "execution_count": 6,
     "metadata": {},
     "output_type": "execute_result"
    }
   ],
   "source": [
    "form_find = re.findall(form_regex, text)\n",
    "form_find"
   ]
  },
  {
   "cell_type": "code",
   "execution_count": 7,
   "id": "271d7144",
   "metadata": {},
   "outputs": [
    {
     "data": {
      "text/plain": [
       "['This is a droplist']"
      ]
     },
     "execution_count": 7,
     "metadata": {},
     "output_type": "execute_result"
    }
   ],
   "source": [
    "droplist_find = re.findall(droplist_regex, text)\n",
    "droplist_find"
   ]
  }
 ],
 "metadata": {
  "kernelspec": {
   "display_name": "Python 3",
   "language": "python",
   "name": "python3"
  },
  "language_info": {
   "codemirror_mode": {
    "name": "ipython",
    "version": 3
   },
   "file_extension": ".py",
   "mimetype": "text/x-python",
   "name": "python",
   "nbconvert_exporter": "python",
   "pygments_lexer": "ipython3",
   "version": "3.9.5"
  }
 },
 "nbformat": 4,
 "nbformat_minor": 5
}
